{
  "nbformat": 4,
  "nbformat_minor": 0,
  "metadata": {
    "colab": {
      "provenance": [],
      "authorship_tag": "ABX9TyPJGxy6ok+wmNO1gZ3S7W3e",
      "include_colab_link": true
    },
    "kernelspec": {
      "name": "python3",
      "display_name": "Python 3"
    },
    "language_info": {
      "name": "python"
    }
  },
  "cells": [
    {
      "cell_type": "markdown",
      "metadata": {
        "id": "view-in-github",
        "colab_type": "text"
      },
      "source": [
        "<a href=\"https://colab.research.google.com/github/jyothishri184/Machine-Learning-Algorithms/blob/main/AdaBoost.ipynb\" target=\"_parent\"><img src=\"https://colab.research.google.com/assets/colab-badge.svg\" alt=\"Open In Colab\"/></a>"
      ]
    },
    {
      "cell_type": "code",
      "execution_count": null,
      "metadata": {
        "id": "vzIn1gZcc74f"
      },
      "outputs": [],
      "source": [
        "from sklearn.ensemble import AdaBoostClassifier\n",
        "from sklearn.model_selection import train_test_split\n",
        "from sklearn.metrics import accuracy_score\n",
        "from sklearn import datasets"
      ]
    },
    {
      "cell_type": "code",
      "source": [
        "iris = datasets.load_iris()\n",
        "X = iris.data\n",
        "y = iris.target"
      ],
      "metadata": {
        "id": "5N_ChA5Sej33"
      },
      "execution_count": null,
      "outputs": []
    },
    {
      "cell_type": "code",
      "source": [
        "X_train,X_test,y_train,y_test = train_test_split(X,y,test_size=0.3,random_state=42)"
      ],
      "metadata": {
        "id": "jQ2TW2S1eq1c"
      },
      "execution_count": null,
      "outputs": []
    },
    {
      "cell_type": "code",
      "source": [
        "lr = [0.01, 0.1 , 0.25 , 0.5 , 0.75 , 1]\n",
        "for i in lr:\n",
        "  model = AdaBoostClassifier(n_estimators=50,learning_rate= i )\n",
        "  model_pred = model.fit(X_train,y_train)\n",
        "  y_pred = model_pred.predict(X_test)\n",
        "  accuracy = accuracy_score(y_test,y_pred)\n",
        "  print(accuracy*100,\"%\")"
      ],
      "metadata": {
        "colab": {
          "base_uri": "https://localhost:8080/"
        },
        "id": "JzQf8NzOfdzM",
        "outputId": "bc3f16b6-dff3-45d7-844d-2314ee438f5e"
      },
      "execution_count": null,
      "outputs": [
        {
          "output_type": "stream",
          "name": "stdout",
          "text": [
            "97.77777777777777 %\n",
            "97.77777777777777 %\n",
            "97.77777777777777 %\n",
            "97.77777777777777 %\n",
            "97.77777777777777 %\n",
            "100.0 %\n"
          ]
        }
      ]
    },
    {
      "cell_type": "code",
      "source": [],
      "metadata": {
        "id": "FAMM4_0kg3zU"
      },
      "execution_count": null,
      "outputs": []
    }
  ]
}
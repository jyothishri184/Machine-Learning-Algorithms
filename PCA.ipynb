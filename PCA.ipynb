{
  "nbformat": 4,
  "nbformat_minor": 0,
  "metadata": {
    "colab": {
      "provenance": [],
      "authorship_tag": "ABX9TyPzL7sSrN7VFgQg1zHljyMt",
      "include_colab_link": true
    },
    "kernelspec": {
      "name": "python3",
      "display_name": "Python 3"
    },
    "language_info": {
      "name": "python"
    }
  },
  "cells": [
    {
      "cell_type": "markdown",
      "metadata": {
        "id": "view-in-github",
        "colab_type": "text"
      },
      "source": [
        "<a href=\"https://colab.research.google.com/github/jyothishri184/Machine-Learning-Algorithms/blob/main/PCA.ipynb\" target=\"_parent\"><img src=\"https://colab.research.google.com/assets/colab-badge.svg\" alt=\"Open In Colab\"/></a>"
      ]
    },
    {
      "cell_type": "code",
      "execution_count": null,
      "metadata": {
        "id": "aCz4hglXNSb7"
      },
      "outputs": [],
      "source": [
        "import numpy as np\n",
        "import pandas as pd\n",
        "\n",
        "from sklearn import datasets\n",
        "from sklearn.decomposition import PCA\n",
        "from sklearn.preprocessing import StandardScaler"
      ]
    },
    {
      "cell_type": "code",
      "source": [
        "iris = datasets.load_iris()"
      ],
      "metadata": {
        "id": "9f3smp81No1N"
      },
      "execution_count": null,
      "outputs": []
    },
    {
      "cell_type": "markdown",
      "source": [
        "Standard scaling is important in PCA to ensure that all variables have the same scale. This prevents PCA from being biased towards variables with larger magnitudes, ensures equal importance for each variable, and improves convergence of the algorithm."
      ],
      "metadata": {
        "id": "wAgzaRn7QbzY"
      }
    },
    {
      "cell_type": "code",
      "source": [
        "X = StandardScaler().fit_transform(iris.data)\n",
        "#create a PCA that will retain 99% of variance\n",
        "pca=PCA(n_components=0.95,whiten=True)\n",
        "#n_components define variance in range of 0 to 1 %\n",
        "#whiten is scalling (if 4 is there if we want 1 duvide it by 4)\n",
        "X_pca = pca.fit_transform(X)"
      ],
      "metadata": {
        "id": "TJVvH4GbOGb4"
      },
      "execution_count": null,
      "outputs": []
    },
    {
      "cell_type": "code",
      "source": [
        "print(\"Original number of features: \",X.shape[1])\n",
        "print(\"Reduced number of features: \",X_pca.shape[1])"
      ],
      "metadata": {
        "colab": {
          "base_uri": "https://localhost:8080/"
        },
        "id": "2NAZy7ahO93g",
        "outputId": "f65cb544-000a-4d20-91a7-d59a3467f2b8"
      },
      "execution_count": null,
      "outputs": [
        {
          "output_type": "stream",
          "name": "stdout",
          "text": [
            "Original number of features:  4\n",
            "Reduced number of features:  2\n"
          ]
        }
      ]
    },
    {
      "cell_type": "code",
      "source": [
        "import matplotlib.pyplot as plt\n",
        "import seaborn as sns; sns.set()"
      ],
      "metadata": {
        "id": "UhV-0JLmPLdg"
      },
      "execution_count": null,
      "outputs": []
    },
    {
      "cell_type": "markdown",
      "source": [
        "The code generates a 2D synthetic dataset (X) by multiplying a 2x2 random matrix with a 2x200 matrix of random values. It then creates a scatter plot of the data using Matplotlib, ensuring equal scaling for the x and y axes. The resulting plot visualizes the synthetic data distribution in two dimensions."
      ],
      "metadata": {
        "id": "erH8jj0GQrv8"
      }
    },
    {
      "cell_type": "code",
      "source": [
        "rng = np.random.RandomState(1) #seed 1. same random no each time this code is run\n",
        "X = np.dot(rng.rand(2,2),rng.randn(2,200)).T #rand- random   2,2-2*2 matrix   T-tranpose\n",
        "plt.scatter(X[:,0],X[:,1])\n",
        "plt.axis('equal');"
      ],
      "metadata": {
        "colab": {
          "base_uri": "https://localhost:8080/",
          "height": 439
        },
        "id": "xc716fb1Ps1M",
        "outputId": "de39d571-a536-4dd1-9101-3a3a31035db6"
      },
      "execution_count": null,
      "outputs": [
        {
          "output_type": "display_data",
          "data": {
            "text/plain": [
              "<Figure size 640x480 with 1 Axes>"
            ],
            "image/png": "[encoded data removed]"
          },
          "metadata": {}
        }
      ]
    },
    {
      "cell_type": "markdown",
      "source": [
        "np.random.rand:\n",
        "\n",
        "This function generates random values from a uniform distribution over the interval [0, 1)\n",
        "\n",
        "np.random.randn:\n",
        "\n",
        "This function generates random values from a standard normal distribution (mean=0, standard deviation=1)."
      ],
      "metadata": {
        "id": "ZKQeKUgNRFKW"
      }
    },
    {
      "cell_type": "code",
      "source": [
        "X.shape"
      ],
      "metadata": {
        "colab": {
          "base_uri": "https://localhost:8080/"
        },
        "id": "3MrEQhukQK-n",
        "outputId": "4deabb5e-8180-4f9f-c609-be29c7a3a489"
      },
      "execution_count": null,
      "outputs": [
        {
          "output_type": "execute_result",
          "data": {
            "text/plain": [
              "(200, 2)"
            ]
          },
          "metadata": {},
          "execution_count": 41
        }
      ]
    },
    {
      "cell_type": "code",
      "source": [
        "pca=PCA(n_components=1)\n",
        "X_pca = pca.fit_transform(X)\n",
        "print(\"Original number of features: \",X.shape[1])\n",
        "print(\"Reduced number of features: \",X_pca.shape[1])"
      ],
      "metadata": {
        "colab": {
          "base_uri": "https://localhost:8080/"
        },
        "id": "bWaJCxEcRu98",
        "outputId": "a6a718a8-be5a-46c0-8d4c-0e54e2182d80"
      },
      "execution_count": null,
      "outputs": [
        {
          "output_type": "stream",
          "name": "stdout",
          "text": [
            "Original number of features:  2\n",
            "Reduced number of features:  1\n"
          ]
        }
      ]
    }
  ]
}